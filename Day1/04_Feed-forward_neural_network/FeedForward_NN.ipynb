{
 "cells": [
  {
   "cell_type": "code",
   "execution_count": null,
   "metadata": {
    "collapsed": true
   },
   "outputs": [],
   "source": [
    "class FeedForwardNN(object):\n",
    "    def __init__(self, eta=0.001, num_iter=100, num_layers=2):\n",
    "        self.eta = eta\n",
    "        self.num_iter = num_iter\n",
    "        \n",
    "    def loss(self, X, y):\n",
    "        \n",
    "        \n",
    "    def fit(self, num_units, X):\n",
    "        for i in range(len(num_units)-1)\n",
    "            self.weights[i] = np.zeros((num_units[i+1], 1+num_units[i]))\n",
    "            self.delta[i] = np.zeros((num_units[i+1], 1+num_units[i]))\n",
    "        \n",
    "    def activation(self, layer, value):\n",
    "        self.linear_sum = np.dot(value, self.weights[layer, 1:]) + self.weights[layer, 0]             \n",
    "        return self.sigmoid(self.linear_sum)\n",
    "\n",
    "    def forward(self, X, isTraining=True):\n",
    "        in_value = X\n",
    "        for l in range(self.weights.shape[1]-1):\n",
    "            out_value = self.activation(l, in_value)\n",
    "            self.compute_gradient()\n",
    "            in_value = out_value\n",
    "        return self.sigmoid(out_value)\n",
    "    \n",
    "    # logistic sigmoid for binary classification\n",
    "    def sigmoid(self, X):\n",
    "        return 1 / (1.0 + np.exp(-X))\n",
    "            \n",
    "    def predict(self, X):\n",
    "        return self.forward(X, isTraining=False)\n",
    "            \n",
    "    def backward(self, y):\n",
    "        self.forward()\n",
    "        self.loss()\n",
    "        self.gradient()\n",
    "        self.update()\n",
    "                \n",
    "    def gradient(self):\n",
    "        \n",
    "    \n",
    "    def update(self):\n",
    "        self.weights = self.weights + self.delta_weights"
   ]
  }
 ],
 "metadata": {
  "kernelspec": {
   "display_name": "Python 2",
   "language": "python",
   "name": "python2"
  },
  "language_info": {
   "codemirror_mode": {
    "name": "ipython",
    "version": 2
   },
   "file_extension": ".py",
   "mimetype": "text/x-python",
   "name": "python",
   "nbconvert_exporter": "python",
   "pygments_lexer": "ipython2",
   "version": "2.7.12"
  }
 },
 "nbformat": 4,
 "nbformat_minor": 1
}
