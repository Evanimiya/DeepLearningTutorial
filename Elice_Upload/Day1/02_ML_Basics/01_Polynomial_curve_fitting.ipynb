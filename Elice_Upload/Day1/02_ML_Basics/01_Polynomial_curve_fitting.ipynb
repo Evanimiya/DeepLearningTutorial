{
 "cells": [
  {
   "cell_type": "code",
   "execution_count": null,
   "metadata": {
    "collapsed": true,
    "deletable": true,
    "editable": true
   },
   "outputs": [],
   "source": [
    "# ENVIORNMENT\n",
    "# OS : Ubuntu 14.04.5\n",
    "# Interpreter : Python 3.6.2\n",
    "# Pytorch version : 0.2.0, gpu version.\n",
    "# CUDA : 8.0"
   ]
  },
  {
   "cell_type": "markdown",
   "metadata": {
    "deletable": true,
    "editable": true
   },
   "source": [
    "# 1. Polynomial curve fitting implementation using numpy\n",
    "\n",
    "- Numpy 라이브러리만을 사용하여 polynomial basis function을 사용한 curve fitting을 구현해보자.\n",
    "\n",
    "Target Function: $f(x) = \\sin(2\\pi x)$\n",
    "\n",
    "Task: Given some input $x$ and output $\\hat{f}(x)$ (a noisy output of $f(x)$), predict $f(x)$."
   ]
  },
  {
   "cell_type": "code",
   "execution_count": 152,
   "metadata": {
    "collapsed": true,
    "deletable": true,
    "editable": true
   },
   "outputs": [],
   "source": [
    "import numpy as np\n",
    "import matplotlib as mpl\n",
    "import matplotlib.pyplot as plt\n",
    "\n",
    "trn_size = 10000\n",
    "moments = 5\n",
    "\n",
    "X = np.arange(trn_size)/trn_size\n",
    "target = np.sin(2*np.pi*X)\n",
    "noisy_output = target+(np.random.rand(trn_size)-0.5)"
   ]
  },
  {
   "cell_type": "code",
   "execution_count": 153,
   "metadata": {
    "collapsed": false,
    "deletable": true,
    "editable": true
   },
   "outputs": [
    {
     "data": {
      "image/png": "[encoded data removed]",
      "text/plain": [
       "<matplotlib.figure.Figure at 0x7f74dff6d2e8>"
      ]
     },
     "metadata": {},
     "output_type": "display_data"
    }
   ],
   "source": [
    "plt.plot(X[::100], noisy_output[::100], c=\"blue\")\n",
    "plt.plot(X, target, c=\"red\")\n",
    "plt.grid(True)\n",
    "\n",
    "plt.show()"
   ]
  },
  {
   "cell_type": "markdown",
   "metadata": {
    "deletable": true,
    "editable": true
   },
   "source": [
    "Polynomial Function: $y(x,$**w**$)=w_0+w_1x+w_2x^2+...+w_Mx^M=\\sum^M_{j=0} w_j x^j$\n",
    "\n",
    "Error Function (Mean Squared Error): $E(w)= 1/2 \\sum^N_{n=1} \\{y(x_n,w)-t_n\\}^2$"
   ]
  },
  {
   "cell_type": "heading",
   "level": 1,
   "metadata": {},
   "source": [
    "Polynomial Function"
   ]
  },
  {
   "cell_type": "code",
   "execution_count": 164,
   "metadata": {
    "collapsed": true,
    "deletable": true,
    "editable": true
   },
   "outputs": [],
   "source": [
    "#Initialize weights\n",
    "weight = np.random.rand(moments)\n",
    "def poly_func(X):\n",
    "    result = weight[0]\n",
    "    for cnt, w in enumerate(weight[1:]):\n",
    "        result += w * X ** (cnt + 1)\n",
    "    return result"
   ]
  },
  {
   "cell_type": "heading",
   "level": 1,
   "metadata": {},
   "source": [
    "Error Function"
   ]
  },
  {
   "cell_type": "code",
   "execution_count": 166,
   "metadata": {
    "collapsed": false,
    "deletable": true,
    "editable": true
   },
   "outputs": [
    {
     "data": {
      "text/plain": [
       "116822201.78227407"
      ]
     },
     "execution_count": 166,
     "metadata": {},
     "output_type": "execute_result"
    }
   ],
   "source": [
    "def error_function():\n",
    "    result = 0\n",
    "    for cnt, (x, t) in enumerate(zip(X, noisy_output)):\n",
    "        result += poly_func(x) - t\n",
    "    result = 0.5 * result ** 2\n",
    "    return result\n",
    "error_function()"
   ]
  },
  {
   "cell_type": "markdown",
   "metadata": {},
   "source": [
    "# 02. polynomial curve fitting using Pytorch\n",
    "\n",
    "- pytorch 라이브러리를 사용하여 polynomial basis function을 사용한 curve fitting을 구현해보자."
   ]
  },
  {
   "cell_type": "code",
   "execution_count": null,
   "metadata": {
    "collapsed": true
   },
   "outputs": [],
   "source": []
  }
 ],
 "metadata": {
  "kernelspec": {
   "display_name": "Python 3",
   "language": "python",
   "name": "python3"
  },
  "language_info": {
   "codemirror_mode": {
    "name": "ipython",
    "version": 3
   },
   "file_extension": ".py",
   "mimetype": "text/x-python",
   "name": "python",
   "nbconvert_exporter": "python",
   "pygments_lexer": "ipython3",
   "version": "3.6.0"
  }
 },
 "nbformat": 4,
 "nbformat_minor": 0
}
